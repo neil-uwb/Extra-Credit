{
 "cells": [
  {
   "cell_type": "markdown",
   "metadata": {},
   "source": [
    "## Initial Imports for Plotting"
   ]
  },
  {
   "cell_type": "code",
   "execution_count": 1,
   "metadata": {},
   "outputs": [],
   "source": [
    "#import iris\n",
    "import numpy as np\n",
    "import xarray as xr\n",
    "#import holoviews as hv\n",
    "#import geoviews as gv\n",
    "#import geoviews.feature as gf\n",
    "\n",
    "#from cartopy import crs\n",
    "#from geoviews import opts\n",
    "\n",
    "#gv.extension('matplotlib')\n",
    "\n",
    "#gv.output(size=150)\n",
    "\n",
    "from bokeh.io import output_notebook\n",
    "\n",
    "#output_notebook()\n",
    "#pd.set_option('display.max_columns', 100)\n",
    "#gv.extension('bokeh')"
   ]
  },
  {
   "cell_type": "markdown",
   "metadata": {},
   "source": [
    "## Setting Time and URL"
   ]
  },
  {
   "cell_type": "code",
   "execution_count": 2,
   "metadata": {},
   "outputs": [
    {
     "name": "stdout",
     "output_type": "stream",
     "text": [
      "Enter date in format YYYYMMDD: 20010303\n"
     ]
    }
   ],
   "source": [
    "dateDesired = input(\"Enter date in format YYYYMMDD: \")   #Get Required date for data collection"
   ]
  },
  {
   "cell_type": "code",
   "execution_count": 3,
   "metadata": {},
   "outputs": [],
   "source": [
    "ncFile = 'https://www.ncei.noaa.gov/thredds/dodsC/uv/6h/'+dateDesired[0:4]+'/uv' + dateDesired + '.nc'; "
   ]
  },
  {
   "cell_type": "code",
   "execution_count": 16,
   "metadata": {},
   "outputs": [
    {
     "name": "stdout",
     "output_type": "stream",
     "text": [
      "Enter time desired from 0 to 3: 0\n"
     ]
    }
   ],
   "source": [
    "Time = input(\"Enter time desired from 0 to 3: \")"
   ]
  },
  {
   "cell_type": "code",
   "execution_count": 20,
   "metadata": {},
   "outputs": [],
   "source": [
    "if Time == '0':\n",
    "    lock = ' 00:00:00'\n",
    "elif Time == '1':\n",
    "    lock = ' 06:00:00'\n",
    "elif Time == '2':\n",
    "    lock = ' 12:00:00'\n",
    "elif Time == '3':\n",
    "    lock = ' 18:00:00'"
   ]
  },
  {
   "cell_type": "code",
   "execution_count": 23,
   "metadata": {},
   "outputs": [
    {
     "data": {
      "text/plain": [
       "'2001-03-03 00:00:00'"
      ]
     },
     "execution_count": 23,
     "metadata": {},
     "output_type": "execute_result"
    }
   ],
   "source": [
    "check = dateDesired[0:4] + '-' + dateDesired[4:6] + '-' + dateDesired[6:8] + lock\n",
    "check"
   ]
  },
  {
   "cell_type": "markdown",
   "metadata": {},
   "source": [
    "## Reading Data"
   ]
  },
  {
   "cell_type": "code",
   "execution_count": 24,
   "metadata": {},
   "outputs": [],
   "source": [
    "import netCDF4\n",
    "import pandas as pd\n",
    "\n",
    "nc = netCDF4.Dataset(ncFile, mode='r')\n",
    "\n",
    "nc.variables.keys()\n",
    "\n",
    "lat = nc.variables['lat'][:]\n",
    "lon = nc.variables['lon'][:]\n",
    "time_var = nc.variables['time']\n",
    "dtime = netCDF4.num2date(time_var[:],time_var.units)\n",
    "u = nc.variables['u'][:]\n",
    "v = nc.variables['v'][:]\n"
   ]
  },
  {
   "cell_type": "markdown",
   "metadata": {},
   "source": [
    "## Writting and Reading the CSV"
   ]
  },
  {
   "cell_type": "code",
   "execution_count": 25,
   "metadata": {},
   "outputs": [],
   "source": [
    "import xarray as xr\n",
    "\n",
    "nc = xr.open_dataset(ncFile)\n",
    "nc.u.to_dataframe().to_csv('u.csv')\n",
    "nc.v.to_dataframe().to_csv('v.csv')"
   ]
  },
  {
   "cell_type": "code",
   "execution_count": 26,
   "metadata": {},
   "outputs": [],
   "source": [
    "u_data = pd.read_csv('u.csv')\n",
    "v_data = pd.read_csv('v.csv')"
   ]
  },
  {
   "cell_type": "markdown",
   "metadata": {},
   "source": [
    "## Merging the two CSV files into one with NaN removed"
   ]
  },
  {
   "cell_type": "code",
   "execution_count": null,
   "metadata": {},
   "outputs": [],
   "source": [
    "import math\n",
    "import csv\n",
    "\n",
    "#Open new CSV File\n",
    "myFile = open('wind.csv', 'w' , newline='')\n",
    "\n",
    "with myFile:\n",
    "    #set up headers and write location\n",
    "    myFields = ['time', 'lat','lon','u','v']\n",
    "    writer = csv.DictWriter(myFile, fieldnames=myFields)    \n",
    "    writer.writeheader()\n",
    "    #Run through length of all data sets\n",
    "    for i in range(len(u_data)):\n",
    "        if u_data['time'][i] == check and v_data['time'][i] == check:\n",
    "            #check for NaN\n",
    "            if math.isnan(u_data['u'][i]) == False and math.isnan(v_data['v'][i]) == False:\n",
    "                #Write to CSV\n",
    "                writer.writerow({'time' : u_data['time'][i], 'lat': u_data['lat'][i], 'lon': u_data['lon'][i], 'u': u_data['u'][i], 'v': v_data['v'][i]})"
   ]
  },
  {
   "cell_type": "markdown",
   "metadata": {},
   "source": [
    "## Read new CSV"
   ]
  },
  {
   "cell_type": "code",
   "execution_count": null,
   "metadata": {},
   "outputs": [],
   "source": [
    "data = pd.read_csv('wind.csv')"
   ]
  },
  {
   "cell_type": "markdown",
   "metadata": {},
   "source": [
    "## Plot Quivers using Matplotlib"
   ]
  },
  {
   "cell_type": "code",
   "execution_count": null,
   "metadata": {},
   "outputs": [],
   "source": [
    "import matplotlib.pyplot as plt"
   ]
  },
  {
   "cell_type": "code",
   "execution_count": null,
   "metadata": {},
   "outputs": [],
   "source": [
    "widths = np.linspace(0, 2, data['lon'].size)\n",
    "plt.quiver(data['lon'], data['lat'],data['u'],data['v'], linewidths=widths, color = '0.5')\n",
    "plt.xlabel('Longitude')\n",
    "plt.ylabel('Latitude')\n",
    "plt.title('Wind Velocity at Different Points')\n",
    "plt.show()"
   ]
  },
  {
   "cell_type": "markdown",
   "metadata": {},
   "source": [
    "There is technically quivers on this map, but they are so small and there are so many, that it is impossible to tell."
   ]
  },
  {
   "cell_type": "code",
   "execution_count": null,
   "metadata": {},
   "outputs": [],
   "source": []
  }
 ],
 "metadata": {
  "kernelspec": {
   "display_name": "Python 3",
   "language": "python",
   "name": "python3"
  },
  "language_info": {
   "codemirror_mode": {
    "name": "ipython",
    "version": 3
   },
   "file_extension": ".py",
   "mimetype": "text/x-python",
   "name": "python",
   "nbconvert_exporter": "python",
   "pygments_lexer": "ipython3",
   "version": "3.7.4"
  }
 },
 "nbformat": 4,
 "nbformat_minor": 2
}
